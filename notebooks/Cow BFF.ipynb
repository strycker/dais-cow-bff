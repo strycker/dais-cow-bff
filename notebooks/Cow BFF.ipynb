{
 "cells": [
  {
   "cell_type": "markdown",
   "metadata": {
    "application/vnd.databricks.v1+cell": {
     "cellMetadata": {
      "byteLimit": 2048000,
      "rowLimit": 10000
     },
     "inputWidgets": {},
     "nuid": "1150ad03-d27d-41cd-9d3e-5d717b80a08e",
     "showTitle": false,
     "title": ""
    }
   },
   "source": [
    "## First we install Python packages and initialize our globals"
   ]
  },
  {
   "cell_type": "code",
   "execution_count": 2,
   "metadata": {
    "application/vnd.databricks.v1+cell": {
     "cellMetadata": {
      "byteLimit": 2048000,
      "rowLimit": 10000
     },
     "inputWidgets": {},
     "nuid": "d21f0fd2-c1cd-42a5-854b-8380b7ee0e0c",
     "showTitle": false,
     "title": ""
    }
   },
   "outputs": [
    {
     "name": "stdout",
     "output_type": "stream",
     "text": [
      "Requirement already satisfied: ipykernel==6.29.4 in /usr/local/anaconda3/envs/py310/lib/python3.10/site-packages (from -r ../requirements.txt (line 1)) (6.29.4)\n",
      "Requirement already satisfied: nbformat==5.10.4 in /Users/glestryc/.local/lib/python3.10/site-packages (from -r ../requirements.txt (line 2)) (5.10.4)\n",
      "Requirement already satisfied: plotly==5.22.0 in /usr/local/anaconda3/envs/py310/lib/python3.10/site-packages (from -r ../requirements.txt (line 3)) (5.22.0)\n",
      "Requirement already satisfied: pytest==8.2.1 in /usr/local/anaconda3/envs/py310/lib/python3.10/site-packages (from -r ../requirements.txt (line 4)) (8.2.1)\n",
      "Requirement already satisfied: databricks-connect==13.1.0 in /usr/local/anaconda3/envs/py310/lib/python3.10/site-packages (from -r ../requirements.txt (line 5)) (13.1.0)\n",
      "Requirement already satisfied: appnope in /Users/glestryc/.local/lib/python3.10/site-packages (from ipykernel==6.29.4->-r ../requirements.txt (line 1)) (0.1.4)\n",
      "Requirement already satisfied: comm>=0.1.1 in /Users/glestryc/.local/lib/python3.10/site-packages (from ipykernel==6.29.4->-r ../requirements.txt (line 1)) (0.2.2)\n",
      "Requirement already satisfied: debugpy>=1.6.5 in /usr/local/anaconda3/envs/py310/lib/python3.10/site-packages (from ipykernel==6.29.4->-r ../requirements.txt (line 1)) (1.8.2)\n",
      "Requirement already satisfied: ipython>=7.23.1 in /usr/local/anaconda3/envs/py310/lib/python3.10/site-packages (from ipykernel==6.29.4->-r ../requirements.txt (line 1)) (8.26.0)\n",
      "Requirement already satisfied: jupyter-client>=6.1.12 in /usr/local/anaconda3/envs/py310/lib/python3.10/site-packages (from ipykernel==6.29.4->-r ../requirements.txt (line 1)) (8.6.2)\n",
      "Requirement already satisfied: jupyter-core!=5.0.*,>=4.12 in /Users/glestryc/.local/lib/python3.10/site-packages (from ipykernel==6.29.4->-r ../requirements.txt (line 1)) (5.7.2)\n",
      "Requirement already satisfied: matplotlib-inline>=0.1 in /Users/glestryc/.local/lib/python3.10/site-packages (from ipykernel==6.29.4->-r ../requirements.txt (line 1)) (0.1.7)\n",
      "Requirement already satisfied: nest-asyncio in /Users/glestryc/.local/lib/python3.10/site-packages (from ipykernel==6.29.4->-r ../requirements.txt (line 1)) (1.6.0)\n",
      "Requirement already satisfied: packaging in /usr/local/anaconda3/envs/py310/lib/python3.10/site-packages (from ipykernel==6.29.4->-r ../requirements.txt (line 1)) (24.1)\n",
      "Requirement already satisfied: psutil in /usr/local/anaconda3/envs/py310/lib/python3.10/site-packages (from ipykernel==6.29.4->-r ../requirements.txt (line 1)) (6.0.0)\n",
      "Requirement already satisfied: pyzmq>=24 in /usr/local/anaconda3/envs/py310/lib/python3.10/site-packages (from ipykernel==6.29.4->-r ../requirements.txt (line 1)) (26.0.3)\n",
      "Requirement already satisfied: tornado>=6.1 in /usr/local/anaconda3/envs/py310/lib/python3.10/site-packages (from ipykernel==6.29.4->-r ../requirements.txt (line 1)) (6.4.1)\n",
      "Requirement already satisfied: traitlets>=5.4.0 in /Users/glestryc/.local/lib/python3.10/site-packages (from ipykernel==6.29.4->-r ../requirements.txt (line 1)) (5.14.3)\n",
      "Requirement already satisfied: fastjsonschema>=2.15 in /usr/local/anaconda3/envs/py310/lib/python3.10/site-packages (from nbformat==5.10.4->-r ../requirements.txt (line 2)) (2.20.0)\n",
      "Requirement already satisfied: jsonschema>=2.6 in /Users/glestryc/.local/lib/python3.10/site-packages (from nbformat==5.10.4->-r ../requirements.txt (line 2)) (4.22.0)\n",
      "Requirement already satisfied: tenacity>=6.2.0 in /usr/local/anaconda3/envs/py310/lib/python3.10/site-packages (from plotly==5.22.0->-r ../requirements.txt (line 3)) (8.5.0)\n",
      "Requirement already satisfied: iniconfig in /usr/local/anaconda3/envs/py310/lib/python3.10/site-packages (from pytest==8.2.1->-r ../requirements.txt (line 4)) (2.0.0)\n",
      "Requirement already satisfied: pluggy<2.0,>=1.5 in /usr/local/anaconda3/envs/py310/lib/python3.10/site-packages (from pytest==8.2.1->-r ../requirements.txt (line 4)) (1.5.0)\n",
      "Requirement already satisfied: exceptiongroup>=1.0.0rc8 in /Users/glestryc/.local/lib/python3.10/site-packages (from pytest==8.2.1->-r ../requirements.txt (line 4)) (1.2.1)\n",
      "Requirement already satisfied: tomli>=1 in /Users/glestryc/.local/lib/python3.10/site-packages (from pytest==8.2.1->-r ../requirements.txt (line 4)) (2.0.1)\n",
      "Requirement already satisfied: py4j==0.10.9.7 in /usr/local/anaconda3/envs/py310/lib/python3.10/site-packages (from databricks-connect==13.1.0->-r ../requirements.txt (line 5)) (0.10.9.7)\n",
      "Requirement already satisfied: six in /Users/glestryc/.local/lib/python3.10/site-packages (from databricks-connect==13.1.0->-r ../requirements.txt (line 5)) (1.16.0)\n",
      "Requirement already satisfied: pandas>=1.0.5 in /usr/local/anaconda3/envs/py310/lib/python3.10/site-packages (from databricks-connect==13.1.0->-r ../requirements.txt (line 5)) (2.2.2)\n",
      "Requirement already satisfied: pyarrow>=1.0.0 in /usr/local/anaconda3/envs/py310/lib/python3.10/site-packages (from databricks-connect==13.1.0->-r ../requirements.txt (line 5)) (16.1.0)\n",
      "Requirement already satisfied: grpcio>=1.48.1 in /usr/local/anaconda3/envs/py310/lib/python3.10/site-packages (from databricks-connect==13.1.0->-r ../requirements.txt (line 5)) (1.64.1)\n",
      "Requirement already satisfied: grpcio-status>=1.48.1 in /usr/local/anaconda3/envs/py310/lib/python3.10/site-packages (from databricks-connect==13.1.0->-r ../requirements.txt (line 5)) (1.64.1)\n",
      "Requirement already satisfied: googleapis-common-protos>=1.56.4 in /usr/local/anaconda3/envs/py310/lib/python3.10/site-packages (from databricks-connect==13.1.0->-r ../requirements.txt (line 5)) (1.63.2)\n",
      "Requirement already satisfied: numpy>=1.15 in /usr/local/anaconda3/envs/py310/lib/python3.10/site-packages (from databricks-connect==13.1.0->-r ../requirements.txt (line 5)) (2.0.0)\n",
      "Requirement already satisfied: databricks-sdk>=0.1.2 in /usr/local/anaconda3/envs/py310/lib/python3.10/site-packages (from databricks-connect==13.1.0->-r ../requirements.txt (line 5)) (0.29.0)\n",
      "Requirement already satisfied: google-auth~=2.0 in /usr/local/anaconda3/envs/py310/lib/python3.10/site-packages (from databricks-sdk>=0.1.2->databricks-connect==13.1.0->-r ../requirements.txt (line 5)) (2.31.0)\n",
      "Requirement already satisfied: requests<3,>=2.28.1 in /usr/local/anaconda3/envs/py310/lib/python3.10/site-packages (from databricks-sdk>=0.1.2->databricks-connect==13.1.0->-r ../requirements.txt (line 5)) (2.32.3)\n",
      "Requirement already satisfied: protobuf!=3.20.0,!=3.20.1,!=4.21.1,!=4.21.2,!=4.21.3,!=4.21.4,!=4.21.5,<6.0.0.dev0,>=3.20.2 in /usr/local/anaconda3/envs/py310/lib/python3.10/site-packages (from googleapis-common-protos>=1.56.4->databricks-connect==13.1.0->-r ../requirements.txt (line 5)) (5.27.2)\n",
      "Requirement already satisfied: decorator in /Users/glestryc/.local/lib/python3.10/site-packages (from ipython>=7.23.1->ipykernel==6.29.4->-r ../requirements.txt (line 1)) (5.1.1)\n",
      "Requirement already satisfied: jedi>=0.16 in /Users/glestryc/.local/lib/python3.10/site-packages (from ipython>=7.23.1->ipykernel==6.29.4->-r ../requirements.txt (line 1)) (0.19.1)\n",
      "Requirement already satisfied: prompt-toolkit<3.1.0,>=3.0.41 in /usr/local/anaconda3/envs/py310/lib/python3.10/site-packages (from ipython>=7.23.1->ipykernel==6.29.4->-r ../requirements.txt (line 1)) (3.0.47)\n",
      "Requirement already satisfied: pygments>=2.4.0 in /Users/glestryc/.local/lib/python3.10/site-packages (from ipython>=7.23.1->ipykernel==6.29.4->-r ../requirements.txt (line 1)) (2.18.0)\n",
      "Requirement already satisfied: stack-data in /Users/glestryc/.local/lib/python3.10/site-packages (from ipython>=7.23.1->ipykernel==6.29.4->-r ../requirements.txt (line 1)) (0.6.3)\n",
      "Requirement already satisfied: typing-extensions>=4.6 in /usr/local/anaconda3/envs/py310/lib/python3.10/site-packages (from ipython>=7.23.1->ipykernel==6.29.4->-r ../requirements.txt (line 1)) (4.12.2)\n",
      "Requirement already satisfied: pexpect>4.3 in /Users/glestryc/.local/lib/python3.10/site-packages (from ipython>=7.23.1->ipykernel==6.29.4->-r ../requirements.txt (line 1)) (4.9.0)\n",
      "Requirement already satisfied: attrs>=22.2.0 in /Users/glestryc/.local/lib/python3.10/site-packages (from jsonschema>=2.6->nbformat==5.10.4->-r ../requirements.txt (line 2)) (23.2.0)\n",
      "Requirement already satisfied: jsonschema-specifications>=2023.03.6 in /Users/glestryc/.local/lib/python3.10/site-packages (from jsonschema>=2.6->nbformat==5.10.4->-r ../requirements.txt (line 2)) (2023.12.1)\n",
      "Requirement already satisfied: referencing>=0.28.4 in /Users/glestryc/.local/lib/python3.10/site-packages (from jsonschema>=2.6->nbformat==5.10.4->-r ../requirements.txt (line 2)) (0.35.1)\n",
      "Requirement already satisfied: rpds-py>=0.7.1 in /usr/local/anaconda3/envs/py310/lib/python3.10/site-packages (from jsonschema>=2.6->nbformat==5.10.4->-r ../requirements.txt (line 2)) (0.18.0)\n",
      "Requirement already satisfied: python-dateutil>=2.8.2 in /Users/glestryc/.local/lib/python3.10/site-packages (from jupyter-client>=6.1.12->ipykernel==6.29.4->-r ../requirements.txt (line 1)) (2.9.0.post0)\n",
      "Requirement already satisfied: platformdirs>=2.5 in /Users/glestryc/.local/lib/python3.10/site-packages (from jupyter-core!=5.0.*,>=4.12->ipykernel==6.29.4->-r ../requirements.txt (line 1)) (4.2.2)\n",
      "Requirement already satisfied: pytz>=2020.1 in /usr/local/anaconda3/envs/py310/lib/python3.10/site-packages (from pandas>=1.0.5->databricks-connect==13.1.0->-r ../requirements.txt (line 5)) (2024.1)\n",
      "Requirement already satisfied: tzdata>=2022.7 in /usr/local/anaconda3/envs/py310/lib/python3.10/site-packages (from pandas>=1.0.5->databricks-connect==13.1.0->-r ../requirements.txt (line 5)) (2024.1)\n",
      "Requirement already satisfied: cachetools<6.0,>=2.0.0 in /usr/local/anaconda3/envs/py310/lib/python3.10/site-packages (from google-auth~=2.0->databricks-sdk>=0.1.2->databricks-connect==13.1.0->-r ../requirements.txt (line 5)) (5.3.3)\n",
      "Requirement already satisfied: pyasn1-modules>=0.2.1 in /usr/local/anaconda3/envs/py310/lib/python3.10/site-packages (from google-auth~=2.0->databricks-sdk>=0.1.2->databricks-connect==13.1.0->-r ../requirements.txt (line 5)) (0.4.0)\n",
      "Requirement already satisfied: rsa<5,>=3.1.4 in /usr/local/anaconda3/envs/py310/lib/python3.10/site-packages (from google-auth~=2.0->databricks-sdk>=0.1.2->databricks-connect==13.1.0->-r ../requirements.txt (line 5)) (4.9)\n",
      "Requirement already satisfied: parso<0.9.0,>=0.8.3 in /Users/glestryc/.local/lib/python3.10/site-packages (from jedi>=0.16->ipython>=7.23.1->ipykernel==6.29.4->-r ../requirements.txt (line 1)) (0.8.4)\n",
      "Requirement already satisfied: ptyprocess>=0.5 in /Users/glestryc/.local/lib/python3.10/site-packages (from pexpect>4.3->ipython>=7.23.1->ipykernel==6.29.4->-r ../requirements.txt (line 1)) (0.7.0)\n",
      "Requirement already satisfied: wcwidth in /Users/glestryc/.local/lib/python3.10/site-packages (from prompt-toolkit<3.1.0,>=3.0.41->ipython>=7.23.1->ipykernel==6.29.4->-r ../requirements.txt (line 1)) (0.2.13)\n",
      "Requirement already satisfied: charset-normalizer<4,>=2 in /usr/local/anaconda3/envs/py310/lib/python3.10/site-packages (from requests<3,>=2.28.1->databricks-sdk>=0.1.2->databricks-connect==13.1.0->-r ../requirements.txt (line 5)) (2.0.12)\n",
      "Requirement already satisfied: idna<4,>=2.5 in /Users/glestryc/.local/lib/python3.10/site-packages (from requests<3,>=2.28.1->databricks-sdk>=0.1.2->databricks-connect==13.1.0->-r ../requirements.txt (line 5)) (3.7)\n",
      "Requirement already satisfied: urllib3<3,>=1.21.1 in /usr/local/anaconda3/envs/py310/lib/python3.10/site-packages (from requests<3,>=2.28.1->databricks-sdk>=0.1.2->databricks-connect==13.1.0->-r ../requirements.txt (line 5)) (2.2.2)\n",
      "Requirement already satisfied: certifi>=2017.4.17 in /usr/local/anaconda3/envs/py310/lib/python3.10/site-packages (from requests<3,>=2.28.1->databricks-sdk>=0.1.2->databricks-connect==13.1.0->-r ../requirements.txt (line 5)) (2024.7.4)\n",
      "Requirement already satisfied: executing>=1.2.0 in /Users/glestryc/.local/lib/python3.10/site-packages (from stack-data->ipython>=7.23.1->ipykernel==6.29.4->-r ../requirements.txt (line 1)) (2.0.1)\n",
      "Requirement already satisfied: asttokens>=2.1.0 in /Users/glestryc/.local/lib/python3.10/site-packages (from stack-data->ipython>=7.23.1->ipykernel==6.29.4->-r ../requirements.txt (line 1)) (2.4.1)\n",
      "Requirement already satisfied: pure-eval in /Users/glestryc/.local/lib/python3.10/site-packages (from stack-data->ipython>=7.23.1->ipykernel==6.29.4->-r ../requirements.txt (line 1)) (0.2.2)\n",
      "Requirement already satisfied: pyasn1<0.7.0,>=0.4.6 in /usr/local/anaconda3/envs/py310/lib/python3.10/site-packages (from pyasn1-modules>=0.2.1->google-auth~=2.0->databricks-sdk>=0.1.2->databricks-connect==13.1.0->-r ../requirements.txt (line 5)) (0.6.0)\n",
      "Note: you may need to restart the kernel to use updated packages.\n",
      "The autoreload extension is already loaded. To reload it, use:\n",
      "  %reload_ext autoreload\n"
     ]
    }
   ],
   "source": [
    "%pip install -r ../requirements.txt\n",
    "%load_ext autoreload\n",
    "%autoreload 2\n",
    "# add project dir to python path\n",
    "try:\n",
    "    notebook_path = dbutils.notebook.entry_point.getDbutils().notebook().getContext().notebookPath().get()\n",
    "    import sys, os\n",
    "    sys.path.append(\"/Workspace\" + os.path.dirname(os.path.dirname(notebook_path)))\n",
    "except:\n",
    "    pass"
   ]
  },
  {
   "cell_type": "code",
   "execution_count": 3,
   "metadata": {
    "application/vnd.databricks.v1+cell": {
     "cellMetadata": {
      "byteLimit": 2048000,
      "rowLimit": 10000
     },
     "inputWidgets": {},
     "nuid": "db31f2e5-6f73-4b4a-9735-48e5fb1a4cea",
     "showTitle": false,
     "title": ""
    }
   },
   "outputs": [],
   "source": [
    "# load table into spark dataframe\n",
    "cows_bff = spark.read.table(\"p2dscidmsmeus.glestryc.cows_bff\")"
   ]
  },
  {
   "cell_type": "markdown",
   "metadata": {
    "application/vnd.databricks.v1+cell": {
     "cellMetadata": {
      "byteLimit": 2048000,
      "rowLimit": 10000
     },
     "inputWidgets": {},
     "nuid": "a06f52cf-3601-4fa5-8041-bd1df249f2be",
     "showTitle": false,
     "title": ""
    }
   },
   "source": [
    "## Lets compute meal overlap"
   ]
  },
  {
   "cell_type": "code",
   "execution_count": 4,
   "metadata": {
    "application/vnd.databricks.v1+cell": {
     "cellMetadata": {
      "byteLimit": 2048000,
      "rowLimit": 10000
     },
     "inputWidgets": {},
     "nuid": "6ede41bc-a962-43a3-afe2-1df2564d1c07",
     "showTitle": false,
     "title": ""
    }
   },
   "outputs": [
    {
     "data": {
      "text/html": [
       "<table border=\"1\" class=\"dataframe\">\n",
       "  <thead>\n",
       "    <tr style=\"text-align: right;\">\n",
       "      <th></th>\n",
       "      <th>cow1</th>\n",
       "      <th>cow2</th>\n",
       "      <th>closeness</th>\n",
       "    </tr>\n",
       "  </thead>\n",
       "  <tbody>\n",
       "    <tr>\n",
       "      <th>0</th>\n",
       "      <td>Brandy</td>\n",
       "      <td>Buttercup</td>\n",
       "      <td>252.000000</td>\n",
       "    </tr>\n",
       "    <tr>\n",
       "      <th>1</th>\n",
       "      <td>Brandy</td>\n",
       "      <td>Butterscotch</td>\n",
       "      <td>204.307692</td>\n",
       "    </tr>\n",
       "    <tr>\n",
       "      <th>2</th>\n",
       "      <td>Brandy</td>\n",
       "      <td>Cocoa</td>\n",
       "      <td>381.076923</td>\n",
       "    </tr>\n",
       "    <tr>\n",
       "      <th>3</th>\n",
       "      <td>Brandy</td>\n",
       "      <td>Daisy</td>\n",
       "      <td>353.076923</td>\n",
       "    </tr>\n",
       "    <tr>\n",
       "      <th>4</th>\n",
       "      <td>Brandy</td>\n",
       "      <td>Dottie</td>\n",
       "      <td>426.153846</td>\n",
       "    </tr>\n",
       "    <tr>\n",
       "      <th>5</th>\n",
       "      <td>Brandy</td>\n",
       "      <td>Hershey</td>\n",
       "      <td>335.769231</td>\n",
       "    </tr>\n",
       "    <tr>\n",
       "      <th>6</th>\n",
       "      <td>Brandy</td>\n",
       "      <td>Magic</td>\n",
       "      <td>282.615385</td>\n",
       "    </tr>\n",
       "    <tr>\n",
       "      <th>7</th>\n",
       "      <td>Brandy</td>\n",
       "      <td>Marshmallow</td>\n",
       "      <td>232.923077</td>\n",
       "    </tr>\n",
       "    <tr>\n",
       "      <th>8</th>\n",
       "      <td>Brandy</td>\n",
       "      <td>Mocha</td>\n",
       "      <td>381.076923</td>\n",
       "    </tr>\n",
       "    <tr>\n",
       "      <th>9</th>\n",
       "      <td>Brandy</td>\n",
       "      <td>Muffin</td>\n",
       "      <td>371.538462</td>\n",
       "    </tr>\n",
       "  </tbody>\n",
       "</table>"
      ],
      "text/plain": [
       "DataFrame[cow1: string, cow2: string, closeness: double]"
      ]
     },
     "metadata": {},
     "output_type": "display_data"
    }
   ],
   "source": [
    "from cow_bff.heatmap import compute_heatmap\n",
    "\n",
    "df = compute_heatmap(cows_bff)\n",
    "display(df.limit(10))"
   ]
  },
  {
   "cell_type": "markdown",
   "metadata": {
    "application/vnd.databricks.v1+cell": {
     "cellMetadata": {
      "byteLimit": 2048000,
      "rowLimit": 10000
     },
     "inputWidgets": {},
     "nuid": "528c3a06-31c6-4124-b702-8052b7e3a821",
     "showTitle": false,
     "title": ""
    }
   },
   "source": [
    "# Display Heatmap"
   ]
  },
  {
   "cell_type": "code",
   "execution_count": 5,
   "metadata": {
    "application/vnd.databricks.v1+cell": {
     "cellMetadata": {
      "byteLimit": 2048000,
      "rowLimit": 10000
     },
     "inputWidgets": {},
     "nuid": "65567936-669a-402d-b4c2-ddc1afc9465d",
     "showTitle": false,
     "title": ""
    }
   },
   "outputs": [
    {
     "data": {
      "application/vnd.plotly.v1+json": {
       "config": {
        "plotlyServerURL": "https://plot.ly"
       },
       "data": [
        {
         "coloraxis": "coloraxis",
         "hovertemplate": "Cow 2: %{x}<br>Cow 1: %{y}<br>closeness: %{z}<extra></extra>",
         "name": "0",
         "type": "heatmap",
         "x": [
          "Brandy",
          "Buttercup",
          "Butterscotch",
          "Cocoa",
          "Daisy",
          "Dottie",
          "Hershey",
          "Magic",
          "Marshmallow",
          "Mocha",
          "Muffin",
          "Nellie",
          "Nutella",
          "Peaches",
          "Popcorn"
         ],
         "xaxis": "x",
         "y": [
          "Brandy",
          "Buttercup",
          "Butterscotch",
          "Cocoa",
          "Daisy",
          "Dottie",
          "Hershey",
          "Magic",
          "Marshmallow",
          "Mocha",
          "Muffin",
          "Nellie",
          "Nutella",
          "Peaches",
          "Popcorn"
         ],
         "yaxis": "y",
         "z": [
          [
           0,
           252,
           204.30769230769232,
           381.0769230769231,
           353.0769230769231,
           426.15384615384613,
           335.7692307692308,
           282.61538461538464,
           232.92307692307693,
           381.0769230769231,
           371.53846153846155,
           227.53846153846155,
           231.69230769230768,
           242.76923076923077,
           342.84615384615387
          ],
          [
           252,
           0,
           280.6923076923077,
           342.9230769230769,
           377.38461538461536,
           339.15384615384613,
           357.9230769230769,
           219.3846153846154,
           353.7692307692308,
           342.9230769230769,
           299.3076923076923,
           329.0769230769231,
           164.15384615384616,
           357.38461538461536,
           314.38461538461536
          ],
          [
           204.30769230769232,
           280.6923076923077,
           0,
           503,
           539.3846153846154,
           462,
           391.9230769230769,
           434,
           444.2307692307692,
           503,
           400.84615384615387,
           357,
           244.3846153846154,
           568.6153846153846,
           261.2307692307692
          ],
          [
           381.0769230769231,
           342.9230769230769,
           503,
           0,
           421.9230769230769,
           527.1538461538462,
           672.2307692307693,
           704.5384615384615,
           469.0769230769231,
           1103.8461538461538,
           468.61538461538464,
           296.38461538461536,
           348.38461538461536,
           558.3076923076923,
           398.6923076923077
          ],
          [
           353.0769230769231,
           377.38461538461536,
           539.3846153846154,
           421.9230769230769,
           0,
           617.9230769230769,
           397,
           457.46153846153845,
           588.9230769230769,
           421.9230769230769,
           561.5384615384615,
           502,
           291,
           700.8461538461538,
           344
          ],
          [
           426.15384615384613,
           339.15384615384613,
           462,
           527.1538461538462,
           617.9230769230769,
           0,
           476.3076923076923,
           536.2307692307693,
           587.8461538461538,
           527.1538461538462,
           417.6923076923077,
           316,
           406.0769230769231,
           597.7692307692307,
           333.2307692307692
          ],
          [
           335.7692307692308,
           357.9230769230769,
           391.9230769230769,
           672.2307692307693,
           397,
           476.3076923076923,
           0,
           576.0769230769231,
           662.6153846153846,
           672.2307692307693,
           477.61538461538464,
           297.61538461538464,
           311.46153846153845,
           570.3846153846154,
           344.15384615384613
          ],
          [
           282.61538461538464,
           219.3846153846154,
           434,
           704.5384615384615,
           457.46153846153845,
           536.2307692307693,
           576.0769230769231,
           0,
           579.6153846153846,
           704.5384615384615,
           395.53846153846155,
           351.9230769230769,
           356.53846153846155,
           549.3846153846154,
           290.84615384615387
          ],
          [
           232.92307692307693,
           353.7692307692308,
           444.2307692307692,
           469.0769230769231,
           588.9230769230769,
           587.8461538461538,
           662.6153846153846,
           579.6153846153846,
           0,
           469.0769230769231,
           508.9230769230769,
           454.61538461538464,
           362.3076923076923,
           769.3846153846154,
           318
          ],
          [
           381.0769230769231,
           342.9230769230769,
           503,
           1103.8461538461538,
           421.9230769230769,
           527.1538461538462,
           672.2307692307693,
           704.5384615384615,
           469.0769230769231,
           0,
           468.61538461538464,
           296.38461538461536,
           348.38461538461536,
           558.3076923076923,
           398.6923076923077
          ],
          [
           371.53846153846155,
           299.3076923076923,
           400.84615384615387,
           468.61538461538464,
           561.5384615384615,
           417.6923076923077,
           477.61538461538464,
           395.53846153846155,
           508.9230769230769,
           468.61538461538464,
           0,
           341.61538461538464,
           337.3076923076923,
           549.7692307692307,
           373.38461538461536
          ],
          [
           227.53846153846155,
           329.0769230769231,
           357,
           296.38461538461536,
           502,
           316,
           297.61538461538464,
           351.9230769230769,
           454.61538461538464,
           296.38461538461536,
           341.61538461538464,
           0,
           169.15384615384616,
           618.8461538461538,
           347.38461538461536
          ],
          [
           231.69230769230768,
           164.15384615384616,
           244.3846153846154,
           348.38461538461536,
           291,
           406.0769230769231,
           311.46153846153845,
           356.53846153846155,
           362.3076923076923,
           348.38461538461536,
           337.3076923076923,
           169.15384615384616,
           0,
           400,
           214.07692307692307
          ],
          [
           242.76923076923077,
           357.38461538461536,
           568.6153846153846,
           558.3076923076923,
           700.8461538461538,
           597.7692307692307,
           570.3846153846154,
           549.3846153846154,
           769.3846153846154,
           558.3076923076923,
           549.7692307692307,
           618.8461538461538,
           400,
           0,
           344.7692307692308
          ],
          [
           342.84615384615387,
           314.38461538461536,
           261.2307692307692,
           398.6923076923077,
           344,
           333.2307692307692,
           344.15384615384613,
           290.84615384615387,
           318,
           398.6923076923077,
           373.38461538461536,
           347.38461538461536,
           214.07692307692307,
           344.7692307692308,
           0
          ]
         ]
        }
       ],
       "layout": {
        "coloraxis": {
         "colorbar": {
          "title": {
           "text": "closeness"
          }
         },
         "colorscale": [
          [
           0,
           "rgb(246, 210, 169)"
          ],
          [
           0.16666666666666666,
           "rgb(245, 183, 142)"
          ],
          [
           0.3333333333333333,
           "rgb(241, 156, 124)"
          ],
          [
           0.5,
           "rgb(234, 129, 113)"
          ],
          [
           0.6666666666666666,
           "rgb(221, 104, 108)"
          ],
          [
           0.8333333333333334,
           "rgb(202, 82, 104)"
          ],
          [
           1,
           "rgb(177, 63, 100)"
          ]
         ]
        },
        "height": 500,
        "template": {
         "data": {
          "bar": [
           {
            "error_x": {
             "color": "#2a3f5f"
            },
            "error_y": {
             "color": "#2a3f5f"
            },
            "marker": {
             "line": {
              "color": "#E5ECF6",
              "width": 0.5
             },
             "pattern": {
              "fillmode": "overlay",
              "size": 10,
              "solidity": 0.2
             }
            },
            "type": "bar"
           }
          ],
          "barpolar": [
           {
            "marker": {
             "line": {
              "color": "#E5ECF6",
              "width": 0.5
             },
             "pattern": {
              "fillmode": "overlay",
              "size": 10,
              "solidity": 0.2
             }
            },
            "type": "barpolar"
           }
          ],
          "carpet": [
           {
            "aaxis": {
             "endlinecolor": "#2a3f5f",
             "gridcolor": "white",
             "linecolor": "white",
             "minorgridcolor": "white",
             "startlinecolor": "#2a3f5f"
            },
            "baxis": {
             "endlinecolor": "#2a3f5f",
             "gridcolor": "white",
             "linecolor": "white",
             "minorgridcolor": "white",
             "startlinecolor": "#2a3f5f"
            },
            "type": "carpet"
           }
          ],
          "choropleth": [
           {
            "colorbar": {
             "outlinewidth": 0,
             "ticks": ""
            },
            "type": "choropleth"
           }
          ],
          "contour": [
           {
            "colorbar": {
             "outlinewidth": 0,
             "ticks": ""
            },
            "colorscale": [
             [
              0,
              "#0d0887"
             ],
             [
              0.1111111111111111,
              "#46039f"
             ],
             [
              0.2222222222222222,
              "#7201a8"
             ],
             [
              0.3333333333333333,
              "#9c179e"
             ],
             [
              0.4444444444444444,
              "#bd3786"
             ],
             [
              0.5555555555555556,
              "#d8576b"
             ],
             [
              0.6666666666666666,
              "#ed7953"
             ],
             [
              0.7777777777777778,
              "#fb9f3a"
             ],
             [
              0.8888888888888888,
              "#fdca26"
             ],
             [
              1,
              "#f0f921"
             ]
            ],
            "type": "contour"
           }
          ],
          "contourcarpet": [
           {
            "colorbar": {
             "outlinewidth": 0,
             "ticks": ""
            },
            "type": "contourcarpet"
           }
          ],
          "heatmap": [
           {
            "colorbar": {
             "outlinewidth": 0,
             "ticks": ""
            },
            "colorscale": [
             [
              0,
              "#0d0887"
             ],
             [
              0.1111111111111111,
              "#46039f"
             ],
             [
              0.2222222222222222,
              "#7201a8"
             ],
             [
              0.3333333333333333,
              "#9c179e"
             ],
             [
              0.4444444444444444,
              "#bd3786"
             ],
             [
              0.5555555555555556,
              "#d8576b"
             ],
             [
              0.6666666666666666,
              "#ed7953"
             ],
             [
              0.7777777777777778,
              "#fb9f3a"
             ],
             [
              0.8888888888888888,
              "#fdca26"
             ],
             [
              1,
              "#f0f921"
             ]
            ],
            "type": "heatmap"
           }
          ],
          "heatmapgl": [
           {
            "colorbar": {
             "outlinewidth": 0,
             "ticks": ""
            },
            "colorscale": [
             [
              0,
              "#0d0887"
             ],
             [
              0.1111111111111111,
              "#46039f"
             ],
             [
              0.2222222222222222,
              "#7201a8"
             ],
             [
              0.3333333333333333,
              "#9c179e"
             ],
             [
              0.4444444444444444,
              "#bd3786"
             ],
             [
              0.5555555555555556,
              "#d8576b"
             ],
             [
              0.6666666666666666,
              "#ed7953"
             ],
             [
              0.7777777777777778,
              "#fb9f3a"
             ],
             [
              0.8888888888888888,
              "#fdca26"
             ],
             [
              1,
              "#f0f921"
             ]
            ],
            "type": "heatmapgl"
           }
          ],
          "histogram": [
           {
            "marker": {
             "pattern": {
              "fillmode": "overlay",
              "size": 10,
              "solidity": 0.2
             }
            },
            "type": "histogram"
           }
          ],
          "histogram2d": [
           {
            "colorbar": {
             "outlinewidth": 0,
             "ticks": ""
            },
            "colorscale": [
             [
              0,
              "#0d0887"
             ],
             [
              0.1111111111111111,
              "#46039f"
             ],
             [
              0.2222222222222222,
              "#7201a8"
             ],
             [
              0.3333333333333333,
              "#9c179e"
             ],
             [
              0.4444444444444444,
              "#bd3786"
             ],
             [
              0.5555555555555556,
              "#d8576b"
             ],
             [
              0.6666666666666666,
              "#ed7953"
             ],
             [
              0.7777777777777778,
              "#fb9f3a"
             ],
             [
              0.8888888888888888,
              "#fdca26"
             ],
             [
              1,
              "#f0f921"
             ]
            ],
            "type": "histogram2d"
           }
          ],
          "histogram2dcontour": [
           {
            "colorbar": {
             "outlinewidth": 0,
             "ticks": ""
            },
            "colorscale": [
             [
              0,
              "#0d0887"
             ],
             [
              0.1111111111111111,
              "#46039f"
             ],
             [
              0.2222222222222222,
              "#7201a8"
             ],
             [
              0.3333333333333333,
              "#9c179e"
             ],
             [
              0.4444444444444444,
              "#bd3786"
             ],
             [
              0.5555555555555556,
              "#d8576b"
             ],
             [
              0.6666666666666666,
              "#ed7953"
             ],
             [
              0.7777777777777778,
              "#fb9f3a"
             ],
             [
              0.8888888888888888,
              "#fdca26"
             ],
             [
              1,
              "#f0f921"
             ]
            ],
            "type": "histogram2dcontour"
           }
          ],
          "mesh3d": [
           {
            "colorbar": {
             "outlinewidth": 0,
             "ticks": ""
            },
            "type": "mesh3d"
           }
          ],
          "parcoords": [
           {
            "line": {
             "colorbar": {
              "outlinewidth": 0,
              "ticks": ""
             }
            },
            "type": "parcoords"
           }
          ],
          "pie": [
           {
            "automargin": true,
            "type": "pie"
           }
          ],
          "scatter": [
           {
            "fillpattern": {
             "fillmode": "overlay",
             "size": 10,
             "solidity": 0.2
            },
            "type": "scatter"
           }
          ],
          "scatter3d": [
           {
            "line": {
             "colorbar": {
              "outlinewidth": 0,
              "ticks": ""
             }
            },
            "marker": {
             "colorbar": {
              "outlinewidth": 0,
              "ticks": ""
             }
            },
            "type": "scatter3d"
           }
          ],
          "scattercarpet": [
           {
            "marker": {
             "colorbar": {
              "outlinewidth": 0,
              "ticks": ""
             }
            },
            "type": "scattercarpet"
           }
          ],
          "scattergeo": [
           {
            "marker": {
             "colorbar": {
              "outlinewidth": 0,
              "ticks": ""
             }
            },
            "type": "scattergeo"
           }
          ],
          "scattergl": [
           {
            "marker": {
             "colorbar": {
              "outlinewidth": 0,
              "ticks": ""
             }
            },
            "type": "scattergl"
           }
          ],
          "scattermapbox": [
           {
            "marker": {
             "colorbar": {
              "outlinewidth": 0,
              "ticks": ""
             }
            },
            "type": "scattermapbox"
           }
          ],
          "scatterpolar": [
           {
            "marker": {
             "colorbar": {
              "outlinewidth": 0,
              "ticks": ""
             }
            },
            "type": "scatterpolar"
           }
          ],
          "scatterpolargl": [
           {
            "marker": {
             "colorbar": {
              "outlinewidth": 0,
              "ticks": ""
             }
            },
            "type": "scatterpolargl"
           }
          ],
          "scatterternary": [
           {
            "marker": {
             "colorbar": {
              "outlinewidth": 0,
              "ticks": ""
             }
            },
            "type": "scatterternary"
           }
          ],
          "surface": [
           {
            "colorbar": {
             "outlinewidth": 0,
             "ticks": ""
            },
            "colorscale": [
             [
              0,
              "#0d0887"
             ],
             [
              0.1111111111111111,
              "#46039f"
             ],
             [
              0.2222222222222222,
              "#7201a8"
             ],
             [
              0.3333333333333333,
              "#9c179e"
             ],
             [
              0.4444444444444444,
              "#bd3786"
             ],
             [
              0.5555555555555556,
              "#d8576b"
             ],
             [
              0.6666666666666666,
              "#ed7953"
             ],
             [
              0.7777777777777778,
              "#fb9f3a"
             ],
             [
              0.8888888888888888,
              "#fdca26"
             ],
             [
              1,
              "#f0f921"
             ]
            ],
            "type": "surface"
           }
          ],
          "table": [
           {
            "cells": {
             "fill": {
              "color": "#EBF0F8"
             },
             "line": {
              "color": "white"
             }
            },
            "header": {
             "fill": {
              "color": "#C8D4E3"
             },
             "line": {
              "color": "white"
             }
            },
            "type": "table"
           }
          ]
         },
         "layout": {
          "annotationdefaults": {
           "arrowcolor": "#2a3f5f",
           "arrowhead": 0,
           "arrowwidth": 1
          },
          "autotypenumbers": "strict",
          "coloraxis": {
           "colorbar": {
            "outlinewidth": 0,
            "ticks": ""
           }
          },
          "colorscale": {
           "diverging": [
            [
             0,
             "#8e0152"
            ],
            [
             0.1,
             "#c51b7d"
            ],
            [
             0.2,
             "#de77ae"
            ],
            [
             0.3,
             "#f1b6da"
            ],
            [
             0.4,
             "#fde0ef"
            ],
            [
             0.5,
             "#f7f7f7"
            ],
            [
             0.6,
             "#e6f5d0"
            ],
            [
             0.7,
             "#b8e186"
            ],
            [
             0.8,
             "#7fbc41"
            ],
            [
             0.9,
             "#4d9221"
            ],
            [
             1,
             "#276419"
            ]
           ],
           "sequential": [
            [
             0,
             "#0d0887"
            ],
            [
             0.1111111111111111,
             "#46039f"
            ],
            [
             0.2222222222222222,
             "#7201a8"
            ],
            [
             0.3333333333333333,
             "#9c179e"
            ],
            [
             0.4444444444444444,
             "#bd3786"
            ],
            [
             0.5555555555555556,
             "#d8576b"
            ],
            [
             0.6666666666666666,
             "#ed7953"
            ],
            [
             0.7777777777777778,
             "#fb9f3a"
            ],
            [
             0.8888888888888888,
             "#fdca26"
            ],
            [
             1,
             "#f0f921"
            ]
           ],
           "sequentialminus": [
            [
             0,
             "#0d0887"
            ],
            [
             0.1111111111111111,
             "#46039f"
            ],
            [
             0.2222222222222222,
             "#7201a8"
            ],
            [
             0.3333333333333333,
             "#9c179e"
            ],
            [
             0.4444444444444444,
             "#bd3786"
            ],
            [
             0.5555555555555556,
             "#d8576b"
            ],
            [
             0.6666666666666666,
             "#ed7953"
            ],
            [
             0.7777777777777778,
             "#fb9f3a"
            ],
            [
             0.8888888888888888,
             "#fdca26"
            ],
            [
             1,
             "#f0f921"
            ]
           ]
          },
          "colorway": [
           "#636efa",
           "#EF553B",
           "#00cc96",
           "#ab63fa",
           "#FFA15A",
           "#19d3f3",
           "#FF6692",
           "#B6E880",
           "#FF97FF",
           "#FECB52"
          ],
          "font": {
           "color": "#2a3f5f"
          },
          "geo": {
           "bgcolor": "white",
           "lakecolor": "white",
           "landcolor": "#E5ECF6",
           "showlakes": true,
           "showland": true,
           "subunitcolor": "white"
          },
          "hoverlabel": {
           "align": "left"
          },
          "hovermode": "closest",
          "mapbox": {
           "style": "light"
          },
          "paper_bgcolor": "white",
          "plot_bgcolor": "#E5ECF6",
          "polar": {
           "angularaxis": {
            "gridcolor": "white",
            "linecolor": "white",
            "ticks": ""
           },
           "bgcolor": "#E5ECF6",
           "radialaxis": {
            "gridcolor": "white",
            "linecolor": "white",
            "ticks": ""
           }
          },
          "scene": {
           "xaxis": {
            "backgroundcolor": "#E5ECF6",
            "gridcolor": "white",
            "gridwidth": 2,
            "linecolor": "white",
            "showbackground": true,
            "ticks": "",
            "zerolinecolor": "white"
           },
           "yaxis": {
            "backgroundcolor": "#E5ECF6",
            "gridcolor": "white",
            "gridwidth": 2,
            "linecolor": "white",
            "showbackground": true,
            "ticks": "",
            "zerolinecolor": "white"
           },
           "zaxis": {
            "backgroundcolor": "#E5ECF6",
            "gridcolor": "white",
            "gridwidth": 2,
            "linecolor": "white",
            "showbackground": true,
            "ticks": "",
            "zerolinecolor": "white"
           }
          },
          "shapedefaults": {
           "line": {
            "color": "#2a3f5f"
           }
          },
          "ternary": {
           "aaxis": {
            "gridcolor": "white",
            "linecolor": "white",
            "ticks": ""
           },
           "baxis": {
            "gridcolor": "white",
            "linecolor": "white",
            "ticks": ""
           },
           "bgcolor": "#E5ECF6",
           "caxis": {
            "gridcolor": "white",
            "linecolor": "white",
            "ticks": ""
           }
          },
          "title": {
           "x": 0.05
          },
          "xaxis": {
           "automargin": true,
           "gridcolor": "white",
           "linecolor": "white",
           "ticks": "",
           "title": {
            "standoff": 15
           },
           "zerolinecolor": "white",
           "zerolinewidth": 2
          },
          "yaxis": {
           "automargin": true,
           "gridcolor": "white",
           "linecolor": "white",
           "ticks": "",
           "title": {
            "standoff": 15
           },
           "zerolinecolor": "white",
           "zerolinewidth": 2
          }
         }
        },
        "title": {
         "text": "Cow BFFs"
        },
        "width": 800,
        "xaxis": {
         "anchor": "y",
         "constrain": "domain",
         "domain": [
          0,
          1
         ],
         "scaleanchor": "y",
         "title": {
          "text": "Cow 2"
         }
        },
        "yaxis": {
         "anchor": "x",
         "autorange": "reversed",
         "constrain": "domain",
         "domain": [
          0,
          1
         ],
         "title": {
          "text": "Cow 1"
         }
        }
       }
      }
     },
     "metadata": {},
     "output_type": "display_data"
    }
   ],
   "source": [
    "pdf = df.toPandas()\n",
    "pdf = pdf.pivot(index='cow1', columns='cow2', values='closeness').fillna(0)\n",
    "\n",
    "import plotly.express as px\n",
    "fig = px.imshow(pdf, x=pdf.columns, y=pdf.index, labels=dict(x=\"Cow 2\", y=\"Cow 1\", color=\"closeness\"), title=\"Cow BFFs\", color_continuous_scale='redor')\n",
    "px.imshow(pdf, x=pdf.columns, y=pdf.index, labels=dict(x=\"Cow 2\", y=\"Cow 1\", color=\"closeness\"),)\n",
    "\n",
    "fig.update_layout(width=800,height=500)\n",
    "fig.show()"
   ]
  },
  {
   "cell_type": "code",
   "execution_count": 6,
   "metadata": {
    "application/vnd.databricks.v1+cell": {
     "cellMetadata": {
      "byteLimit": 2048000,
      "rowLimit": 10000
     },
     "inputWidgets": {},
     "nuid": "8af2d258-2667-4e01-bf77-1f9fe063ffea",
     "showTitle": true,
     "title": "Verify with notebook viz"
    }
   },
   "outputs": [
    {
     "data": {
      "text/html": [
       "<table border=\"1\" class=\"dataframe\">\n",
       "  <thead>\n",
       "    <tr style=\"text-align: right;\">\n",
       "      <th></th>\n",
       "      <th>cow1</th>\n",
       "      <th>cow2</th>\n",
       "      <th>closeness</th>\n",
       "    </tr>\n",
       "  </thead>\n",
       "  <tbody>\n",
       "    <tr>\n",
       "      <th>0</th>\n",
       "      <td>Brandy</td>\n",
       "      <td>Buttercup</td>\n",
       "      <td>252.000000</td>\n",
       "    </tr>\n",
       "    <tr>\n",
       "      <th>1</th>\n",
       "      <td>Brandy</td>\n",
       "      <td>Butterscotch</td>\n",
       "      <td>204.307692</td>\n",
       "    </tr>\n",
       "    <tr>\n",
       "      <th>2</th>\n",
       "      <td>Brandy</td>\n",
       "      <td>Cocoa</td>\n",
       "      <td>381.076923</td>\n",
       "    </tr>\n",
       "    <tr>\n",
       "      <th>3</th>\n",
       "      <td>Brandy</td>\n",
       "      <td>Daisy</td>\n",
       "      <td>353.076923</td>\n",
       "    </tr>\n",
       "    <tr>\n",
       "      <th>4</th>\n",
       "      <td>Brandy</td>\n",
       "      <td>Dottie</td>\n",
       "      <td>426.153846</td>\n",
       "    </tr>\n",
       "    <tr>\n",
       "      <th>5</th>\n",
       "      <td>Brandy</td>\n",
       "      <td>Hershey</td>\n",
       "      <td>335.769231</td>\n",
       "    </tr>\n",
       "    <tr>\n",
       "      <th>6</th>\n",
       "      <td>Brandy</td>\n",
       "      <td>Magic</td>\n",
       "      <td>282.615385</td>\n",
       "    </tr>\n",
       "    <tr>\n",
       "      <th>7</th>\n",
       "      <td>Brandy</td>\n",
       "      <td>Marshmallow</td>\n",
       "      <td>232.923077</td>\n",
       "    </tr>\n",
       "    <tr>\n",
       "      <th>8</th>\n",
       "      <td>Brandy</td>\n",
       "      <td>Mocha</td>\n",
       "      <td>381.076923</td>\n",
       "    </tr>\n",
       "    <tr>\n",
       "      <th>9</th>\n",
       "      <td>Brandy</td>\n",
       "      <td>Muffin</td>\n",
       "      <td>371.538462</td>\n",
       "    </tr>\n",
       "    <tr>\n",
       "      <th>10</th>\n",
       "      <td>Brandy</td>\n",
       "      <td>Nellie</td>\n",
       "      <td>227.538462</td>\n",
       "    </tr>\n",
       "    <tr>\n",
       "      <th>11</th>\n",
       "      <td>Brandy</td>\n",
       "      <td>Nutella</td>\n",
       "      <td>231.692308</td>\n",
       "    </tr>\n",
       "    <tr>\n",
       "      <th>12</th>\n",
       "      <td>Brandy</td>\n",
       "      <td>Peaches</td>\n",
       "      <td>242.769231</td>\n",
       "    </tr>\n",
       "    <tr>\n",
       "      <th>13</th>\n",
       "      <td>Brandy</td>\n",
       "      <td>Popcorn</td>\n",
       "      <td>342.846154</td>\n",
       "    </tr>\n",
       "    <tr>\n",
       "      <th>14</th>\n",
       "      <td>Buttercup</td>\n",
       "      <td>Brandy</td>\n",
       "      <td>252.000000</td>\n",
       "    </tr>\n",
       "    <tr>\n",
       "      <th>15</th>\n",
       "      <td>Buttercup</td>\n",
       "      <td>Butterscotch</td>\n",
       "      <td>280.692308</td>\n",
       "    </tr>\n",
       "    <tr>\n",
       "      <th>16</th>\n",
       "      <td>Buttercup</td>\n",
       "      <td>Cocoa</td>\n",
       "      <td>342.923077</td>\n",
       "    </tr>\n",
       "    <tr>\n",
       "      <th>17</th>\n",
       "      <td>Buttercup</td>\n",
       "      <td>Daisy</td>\n",
       "      <td>377.384615</td>\n",
       "    </tr>\n",
       "    <tr>\n",
       "      <th>18</th>\n",
       "      <td>Buttercup</td>\n",
       "      <td>Dottie</td>\n",
       "      <td>339.153846</td>\n",
       "    </tr>\n",
       "    <tr>\n",
       "      <th>19</th>\n",
       "      <td>Buttercup</td>\n",
       "      <td>Hershey</td>\n",
       "      <td>357.923077</td>\n",
       "    </tr>\n",
       "  </tbody>\n",
       "</table>"
      ],
      "text/plain": [
       "DataFrame[cow1: string, cow2: string, closeness: double]"
      ]
     },
     "metadata": {},
     "output_type": "display_data"
    }
   ],
   "source": [
    "display(df)"
   ]
  },
  {
   "cell_type": "code",
   "execution_count": null,
   "metadata": {
    "application/vnd.databricks.v1+cell": {
     "cellMetadata": {
      "byteLimit": 2048000,
      "rowLimit": 10000
     },
     "inputWidgets": {},
     "nuid": "eb42dbd8-9774-489b-a92d-a62d407b336b",
     "showTitle": false,
     "title": ""
    }
   },
   "outputs": [],
   "source": []
  }
 ],
 "metadata": {
  "application/vnd.databricks.v1+notebook": {
   "dashboards": [],
   "environmentMetadata": null,
   "language": "python",
   "notebookMetadata": {
    "mostRecentlyExecutedCommandWithImplicitDF": {
     "commandId": 1024381266358228,
     "dataframes": [
      "_sqldf"
     ]
    },
    "pythonIndentUnit": 4
   },
   "notebookName": "Cow BFF",
   "widgets": {}
  },
  "kernelspec": {
   "display_name": ".venv",
   "language": "python",
   "name": "python3"
  },
  "language_info": {
   "codemirror_mode": {
    "name": "ipython",
    "version": 3
   },
   "file_extension": ".py",
   "mimetype": "text/x-python",
   "name": "python",
   "nbconvert_exporter": "python",
   "pygments_lexer": "ipython3",
   "version": "3.10.13"
  }
 },
 "nbformat": 4,
 "nbformat_minor": 0
}
